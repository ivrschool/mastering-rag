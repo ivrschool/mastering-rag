{
 "cells": [
  {
   "cell_type": "code",
   "execution_count": 5,
   "metadata": {},
   "outputs": [],
   "source": [
    "# !pip install llama-index-node-parser-slide\n"
   ]
  },
  {
   "cell_type": "code",
   "execution_count": 25,
   "metadata": {},
   "outputs": [],
   "source": [
    "from llama_index.core import SimpleDirectoryReader\n",
    "from llama_index.core.node_parser import SentenceSplitter\n",
    "\n"
   ]
  },
  {
   "cell_type": "code",
   "execution_count": 24,
   "metadata": {},
   "outputs": [],
   "source": [
    "from llama_index.core.llms import MockLLM\n",
    "from llama_index.core.callbacks import CallbackManager, TokenCountingHandler\n",
    "import tiktoken\n",
    "\n",
    "# Initialize MockLLM\n",
    "llm = MockLLM(max_tokens=256)\n",
    "\n",
    "# Set up token counting handler\n",
    "token_counter = TokenCountingHandler(\n",
    "    tokenizer=tiktoken.encoding_for_model(\"gpt-3.5-turbo\").encode\n",
    ")\n",
    "callback_manager = CallbackManager([token_counter])\n"
   ]
  },
  {
   "cell_type": "code",
   "execution_count": 28,
   "metadata": {},
   "outputs": [
    {
     "ename": "ValidationError",
     "evalue": "1 validation error for SlideNodeParser\ntoken_counter\n  Input should be an instance of TokenCounter [type=is_instance_of, input_value=<llama_index.core.callbac...r object at 0x15d237820>, input_type=TokenCountingHandler]\n    For further information visit https://errors.pydantic.dev/2.11/v/is_instance_of",
     "output_type": "error",
     "traceback": [
      "\u001b[0;31m---------------------------------------------------------------------------\u001b[0m",
      "\u001b[0;31mValidationError\u001b[0m                           Traceback (most recent call last)",
      "Cell \u001b[0;32mIn[28], line 3\u001b[0m\n\u001b[1;32m      1\u001b[0m \u001b[38;5;28;01mfrom\u001b[39;00m\u001b[38;5;250m \u001b[39m\u001b[38;5;21;01mllama_index\u001b[39;00m\u001b[38;5;21;01m.\u001b[39;00m\u001b[38;5;21;01mnode_parser\u001b[39;00m\u001b[38;5;21;01m.\u001b[39;00m\u001b[38;5;21;01mslide\u001b[39;00m\u001b[38;5;250m \u001b[39m\u001b[38;5;28;01mimport\u001b[39;00m SlideNodeParser\n\u001b[0;32m----> 3\u001b[0m slide_parser \u001b[38;5;241m=\u001b[39m \u001b[43mSlideNodeParser\u001b[49m\u001b[38;5;241;43m.\u001b[39;49m\u001b[43mfrom_defaults\u001b[49m\u001b[43m(\u001b[49m\n\u001b[1;32m      4\u001b[0m \u001b[43m    \u001b[49m\u001b[43mchunk_size\u001b[49m\u001b[38;5;241;43m=\u001b[39;49m\u001b[38;5;241;43m300\u001b[39;49m\u001b[43m,\u001b[49m\n\u001b[1;32m      5\u001b[0m \u001b[43m    \u001b[49m\u001b[43mwindow_size\u001b[49m\u001b[38;5;241;43m=\u001b[39;49m\u001b[38;5;241;43m11\u001b[39;49m\u001b[43m,\u001b[49m\n\u001b[1;32m      6\u001b[0m \u001b[43m    \u001b[49m\u001b[43mllm\u001b[49m\u001b[38;5;241;43m=\u001b[39;49m\u001b[43mllm\u001b[49m\u001b[43m,\u001b[49m\n\u001b[1;32m      7\u001b[0m \u001b[43m    \u001b[49m\u001b[43mtoken_counter\u001b[49m\u001b[38;5;241;43m=\u001b[39;49m\u001b[43mtoken_counter\u001b[49m\u001b[43m,\u001b[49m\n\u001b[1;32m      8\u001b[0m \u001b[43m    \u001b[49m\u001b[43mcallback_manager\u001b[49m\u001b[38;5;241;43m=\u001b[39;49m\u001b[43mcallback_manager\u001b[49m\n\u001b[1;32m      9\u001b[0m \u001b[43m)\u001b[49m\n",
      "File \u001b[0;32m~/miniconda3/envs/ai-tutorial/lib/python3.9/site-packages/llama_index/node_parser/slide/base.py:89\u001b[0m, in \u001b[0;36mSlideNodeParser.from_defaults\u001b[0;34m(cls, chunk_size, window_size, llm_workers, llm, token_counter, sentence_splitter, callback_manager, id_func)\u001b[0m\n\u001b[1;32m     86\u001b[0m token_counter \u001b[38;5;241m=\u001b[39m token_counter \u001b[38;5;129;01mor\u001b[39;00m TokenCounter()\n\u001b[1;32m     87\u001b[0m sentence_splitter \u001b[38;5;241m=\u001b[39m sentence_splitter \u001b[38;5;129;01mor\u001b[39;00m split_by_sentence_tokenizer()\n\u001b[0;32m---> 89\u001b[0m \u001b[38;5;28;01mreturn\u001b[39;00m \u001b[38;5;28;43mcls\u001b[39;49m\u001b[43m(\u001b[49m\n\u001b[1;32m     90\u001b[0m \u001b[43m    \u001b[49m\u001b[43mcallback_manager\u001b[49m\u001b[38;5;241;43m=\u001b[39;49m\u001b[43mcallback_manager\u001b[49m\u001b[43m,\u001b[49m\n\u001b[1;32m     91\u001b[0m \u001b[43m    \u001b[49m\u001b[43mid_func\u001b[49m\u001b[38;5;241;43m=\u001b[39;49m\u001b[43mid_func\u001b[49m\u001b[43m,\u001b[49m\n\u001b[1;32m     92\u001b[0m \u001b[43m    \u001b[49m\u001b[43mchunk_size\u001b[49m\u001b[38;5;241;43m=\u001b[39;49m\u001b[43mchunk_size\u001b[49m\u001b[43m,\u001b[49m\n\u001b[1;32m     93\u001b[0m \u001b[43m    \u001b[49m\u001b[43mwindow_size\u001b[49m\u001b[38;5;241;43m=\u001b[39;49m\u001b[43mwindow_size\u001b[49m\u001b[43m,\u001b[49m\n\u001b[1;32m     94\u001b[0m \u001b[43m    \u001b[49m\u001b[43mllm_workers\u001b[49m\u001b[38;5;241;43m=\u001b[39;49m\u001b[43mllm_workers\u001b[49m\u001b[43m,\u001b[49m\n\u001b[1;32m     95\u001b[0m \u001b[43m    \u001b[49m\u001b[43mllm\u001b[49m\u001b[38;5;241;43m=\u001b[39;49m\u001b[43mllm\u001b[49m\u001b[43m,\u001b[49m\n\u001b[1;32m     96\u001b[0m \u001b[43m    \u001b[49m\u001b[43mtoken_counter\u001b[49m\u001b[38;5;241;43m=\u001b[39;49m\u001b[43mtoken_counter\u001b[49m\u001b[43m,\u001b[49m\n\u001b[1;32m     97\u001b[0m \u001b[43m    \u001b[49m\u001b[43msentence_splitter\u001b[49m\u001b[38;5;241;43m=\u001b[39;49m\u001b[43msentence_splitter\u001b[49m\u001b[43m,\u001b[49m\n\u001b[1;32m     98\u001b[0m \u001b[43m\u001b[49m\u001b[43m)\u001b[49m\n",
      "File \u001b[0;32m~/miniconda3/envs/ai-tutorial/lib/python3.9/site-packages/pydantic/main.py:253\u001b[0m, in \u001b[0;36mBaseModel.__init__\u001b[0;34m(self, **data)\u001b[0m\n\u001b[1;32m    251\u001b[0m \u001b[38;5;66;03m# `__tracebackhide__` tells pytest and some other tools to omit this function from tracebacks\u001b[39;00m\n\u001b[1;32m    252\u001b[0m __tracebackhide__ \u001b[38;5;241m=\u001b[39m \u001b[38;5;28;01mTrue\u001b[39;00m\n\u001b[0;32m--> 253\u001b[0m validated_self \u001b[38;5;241m=\u001b[39m \u001b[38;5;28;43mself\u001b[39;49m\u001b[38;5;241;43m.\u001b[39;49m\u001b[43m__pydantic_validator__\u001b[49m\u001b[38;5;241;43m.\u001b[39;49m\u001b[43mvalidate_python\u001b[49m\u001b[43m(\u001b[49m\u001b[43mdata\u001b[49m\u001b[43m,\u001b[49m\u001b[43m \u001b[49m\u001b[43mself_instance\u001b[49m\u001b[38;5;241;43m=\u001b[39;49m\u001b[38;5;28;43mself\u001b[39;49m\u001b[43m)\u001b[49m\n\u001b[1;32m    254\u001b[0m \u001b[38;5;28;01mif\u001b[39;00m \u001b[38;5;28mself\u001b[39m \u001b[38;5;129;01mis\u001b[39;00m \u001b[38;5;129;01mnot\u001b[39;00m validated_self:\n\u001b[1;32m    255\u001b[0m     warnings\u001b[38;5;241m.\u001b[39mwarn(\n\u001b[1;32m    256\u001b[0m         \u001b[38;5;124m'\u001b[39m\u001b[38;5;124mA custom validator is returning a value other than `self`.\u001b[39m\u001b[38;5;130;01m\\n\u001b[39;00m\u001b[38;5;124m'\u001b[39m\n\u001b[1;32m    257\u001b[0m         \u001b[38;5;124m\"\u001b[39m\u001b[38;5;124mReturning anything other than `self` from a top level model validator isn\u001b[39m\u001b[38;5;124m'\u001b[39m\u001b[38;5;124mt supported when validating via `__init__`.\u001b[39m\u001b[38;5;130;01m\\n\u001b[39;00m\u001b[38;5;124m\"\u001b[39m\n\u001b[1;32m    258\u001b[0m         \u001b[38;5;124m'\u001b[39m\u001b[38;5;124mSee the `model_validator` docs (https://docs.pydantic.dev/latest/concepts/validators/#model-validators) for more details.\u001b[39m\u001b[38;5;124m'\u001b[39m,\n\u001b[1;32m    259\u001b[0m         stacklevel\u001b[38;5;241m=\u001b[39m\u001b[38;5;241m2\u001b[39m,\n\u001b[1;32m    260\u001b[0m     )\n",
      "\u001b[0;31mValidationError\u001b[0m: 1 validation error for SlideNodeParser\ntoken_counter\n  Input should be an instance of TokenCounter [type=is_instance_of, input_value=<llama_index.core.callbac...r object at 0x15d237820>, input_type=TokenCountingHandler]\n    For further information visit https://errors.pydantic.dev/2.11/v/is_instance_of"
     ]
    }
   ],
   "source": [
    "from llama_index.node_parser.slide import SlideNodeParser\n",
    "\n",
    "slide_parser = SlideNodeParser.from_defaults(\n",
    "    chunk_size=300,\n",
    "    window_size=11,\n",
    "    llm=llm,\n",
    "    token_counter=token_counter,\n",
    "    callback_manager=callback_manager\n",
    ")\n"
   ]
  },
  {
   "cell_type": "code",
   "execution_count": 20,
   "metadata": {},
   "outputs": [],
   "source": [
    "\n",
    "\n",
    "# Load documents\n",
    "documents = SimpleDirectoryReader(\"data/product_manual\").load_data()\n",
    "\n",
    "# SentenceSplitter\n",
    "sentence_splitter = SentenceSplitter(chunk_size=300, chunk_overlap=50)\n",
    "sentence_chunks = sentence_splitter.get_nodes_from_documents(documents)\n",
    "\n",
    "# Set up mock LLM and token counter\n",
    "mock_llm = MockLLM()\n",
    "mock_token_counter = MockTokenCounter()\n",
    "\n",
    "# Initialize SlideNodeParser with required fields\n",
    "slide_parser = SlideNodeParser.from_defaults(\n",
    "    llm=mock_llm,\n",
    "    token_counter=mock_token_counter,\n",
    "    window_size=300,\n",
    "    window_overlap=50,\n",
    ")\n",
    "\n",
    "# Generate chunks\n",
    "slide_chunks = slide_parser.build_slide_nodes_from_documents(documents)\n"
   ]
  },
  {
   "cell_type": "code",
   "execution_count": 16,
   "metadata": {},
   "outputs": [],
   "source": [
    "# Load data\n",
    "documents = SimpleDirectoryReader(\"data/product_manual\").load_data()\n",
    "# SentenceSplitter\n",
    "sentence_splitter = SentenceSplitter(chunk_size=300, chunk_overlap=50)\n",
    "sentence_chunks = sentence_splitter.get_nodes_from_documents(documents)"
   ]
  },
  {
   "cell_type": "code",
   "execution_count": 17,
   "metadata": {},
   "outputs": [
    {
     "name": "stdout",
     "output_type": "stream",
     "text": [
      "[SentenceSplitter] Total chunks: 2\n"
     ]
    }
   ],
   "source": [
    "print(f\"[SentenceSplitter] Total chunks: {len(sentence_chunks)}\")"
   ]
  },
  {
   "cell_type": "code",
   "execution_count": 22,
   "metadata": {},
   "outputs": [
    {
     "ename": "ValidationError",
     "evalue": "2 validation errors for SlideNodeParser\nllm\n  Field required [type=missing, input_value={'window_size': 300, 'window_overlap': 50}, input_type=dict]\n    For further information visit https://errors.pydantic.dev/2.11/v/missing\ntoken_counter\n  Field required [type=missing, input_value={'window_size': 300, 'window_overlap': 50}, input_type=dict]\n    For further information visit https://errors.pydantic.dev/2.11/v/missing",
     "output_type": "error",
     "traceback": [
      "\u001b[0;31m---------------------------------------------------------------------------\u001b[0m",
      "\u001b[0;31mValidationError\u001b[0m                           Traceback (most recent call last)",
      "Cell \u001b[0;32mIn[22], line 2\u001b[0m\n\u001b[1;32m      1\u001b[0m \u001b[38;5;66;03m# SlidingWindowChunker\u001b[39;00m\n\u001b[0;32m----> 2\u001b[0m sliding_window \u001b[38;5;241m=\u001b[39m \u001b[43mSlideNodeParser\u001b[49m\u001b[43m(\u001b[49m\u001b[43mwindow_size\u001b[49m\u001b[38;5;241;43m=\u001b[39;49m\u001b[38;5;241;43m300\u001b[39;49m\u001b[43m,\u001b[49m\u001b[43m \u001b[49m\u001b[43mwindow_overlap\u001b[49m\u001b[38;5;241;43m=\u001b[39;49m\u001b[38;5;241;43m50\u001b[39;49m\u001b[43m)\u001b[49m\n\u001b[1;32m      3\u001b[0m window_chunks \u001b[38;5;241m=\u001b[39m sliding_window\u001b[38;5;241m.\u001b[39mget_nodes_from_documents(documents)\n\u001b[1;32m      4\u001b[0m \u001b[38;5;28mprint\u001b[39m(\u001b[38;5;124mf\u001b[39m\u001b[38;5;124m\"\u001b[39m\u001b[38;5;124m[SlidingWindow] Total chunks: \u001b[39m\u001b[38;5;132;01m{\u001b[39;00m\u001b[38;5;28mlen\u001b[39m(window_chunks)\u001b[38;5;132;01m}\u001b[39;00m\u001b[38;5;124m\"\u001b[39m)\n",
      "File \u001b[0;32m~/miniconda3/envs/ai-tutorial/lib/python3.9/site-packages/pydantic/main.py:253\u001b[0m, in \u001b[0;36mBaseModel.__init__\u001b[0;34m(self, **data)\u001b[0m\n\u001b[1;32m    251\u001b[0m \u001b[38;5;66;03m# `__tracebackhide__` tells pytest and some other tools to omit this function from tracebacks\u001b[39;00m\n\u001b[1;32m    252\u001b[0m __tracebackhide__ \u001b[38;5;241m=\u001b[39m \u001b[38;5;28;01mTrue\u001b[39;00m\n\u001b[0;32m--> 253\u001b[0m validated_self \u001b[38;5;241m=\u001b[39m \u001b[38;5;28;43mself\u001b[39;49m\u001b[38;5;241;43m.\u001b[39;49m\u001b[43m__pydantic_validator__\u001b[49m\u001b[38;5;241;43m.\u001b[39;49m\u001b[43mvalidate_python\u001b[49m\u001b[43m(\u001b[49m\u001b[43mdata\u001b[49m\u001b[43m,\u001b[49m\u001b[43m \u001b[49m\u001b[43mself_instance\u001b[49m\u001b[38;5;241;43m=\u001b[39;49m\u001b[38;5;28;43mself\u001b[39;49m\u001b[43m)\u001b[49m\n\u001b[1;32m    254\u001b[0m \u001b[38;5;28;01mif\u001b[39;00m \u001b[38;5;28mself\u001b[39m \u001b[38;5;129;01mis\u001b[39;00m \u001b[38;5;129;01mnot\u001b[39;00m validated_self:\n\u001b[1;32m    255\u001b[0m     warnings\u001b[38;5;241m.\u001b[39mwarn(\n\u001b[1;32m    256\u001b[0m         \u001b[38;5;124m'\u001b[39m\u001b[38;5;124mA custom validator is returning a value other than `self`.\u001b[39m\u001b[38;5;130;01m\\n\u001b[39;00m\u001b[38;5;124m'\u001b[39m\n\u001b[1;32m    257\u001b[0m         \u001b[38;5;124m\"\u001b[39m\u001b[38;5;124mReturning anything other than `self` from a top level model validator isn\u001b[39m\u001b[38;5;124m'\u001b[39m\u001b[38;5;124mt supported when validating via `__init__`.\u001b[39m\u001b[38;5;130;01m\\n\u001b[39;00m\u001b[38;5;124m\"\u001b[39m\n\u001b[1;32m    258\u001b[0m         \u001b[38;5;124m'\u001b[39m\u001b[38;5;124mSee the `model_validator` docs (https://docs.pydantic.dev/latest/concepts/validators/#model-validators) for more details.\u001b[39m\u001b[38;5;124m'\u001b[39m,\n\u001b[1;32m    259\u001b[0m         stacklevel\u001b[38;5;241m=\u001b[39m\u001b[38;5;241m2\u001b[39m,\n\u001b[1;32m    260\u001b[0m     )\n",
      "\u001b[0;31mValidationError\u001b[0m: 2 validation errors for SlideNodeParser\nllm\n  Field required [type=missing, input_value={'window_size': 300, 'window_overlap': 50}, input_type=dict]\n    For further information visit https://errors.pydantic.dev/2.11/v/missing\ntoken_counter\n  Field required [type=missing, input_value={'window_size': 300, 'window_overlap': 50}, input_type=dict]\n    For further information visit https://errors.pydantic.dev/2.11/v/missing"
     ]
    }
   ],
   "source": [
    "# SlidingWindowChunker\n",
    "sliding_window = SlideNodeParser(window_size=300, window_overlap=50)\n",
    "window_chunks = sliding_window.get_nodes_from_documents(documents)\n",
    "print(f\"[SlidingWindow] Total chunks: {len(window_chunks)}\")\n"
   ]
  },
  {
   "cell_type": "code",
   "execution_count": 19,
   "metadata": {},
   "outputs": [
    {
     "name": "stdout",
     "output_type": "stream",
     "text": [
      "\n",
      "[Sentence Chunk 0]\n",
      "Product Name: EchoTune Smart Speaker\n",
      "\n",
      "1. Introduction\n",
      "The EchoTune Smart Speaker is a voice-activated assistant designed to simplify your daily routine. With built-in support for music streaming, smart home control, and personal reminders, EchoTune is your perfect home companion.\n",
      "\n",
      "2. Getting Started\n",
      "To begin, plug in the EchoTune device using the provided power adapter. The LED indicator will turn blue, signaling it's ready for setup. Download the EchoTune app from the App Store or Google Play to complete the setup process.\n",
      "\n",
      "3. Voice Commands\n",
      "EchoTune responds to the wake word “Echo.” You can ask questions, play music, control smart devices, or check the weather. For example, say “Echo, play jazz music” or “Echo, turn off the living room lights.”\n",
      "\n",
      "4. Troubleshooting\n",
      "If EchoTune isn’t responding:\n",
      "- Check the Wi-Fi connection.\n",
      "- Ensure the microphone is not muted.\n",
      "- Restart the device by unplugging and plugging it back in.\n",
      "\n",
      "5. Safety and Maintenance\n",
      "Do not expose the device to water or extreme temperatures. Clean only with a dry cloth. Keep out of reach of children.\n",
      "\n",
      "6.\n",
      "\n",
      "\n",
      "[Sentence Chunk 1]\n",
      "5. Safety and Maintenance\n",
      "Do not expose the device to water or extreme temperatures. Clean only with a dry cloth. Keep out of reach of children.\n",
      "\n",
      "6. Specifications\n",
      "- Dimensions: 4.5 in x 3.8 in x 3.8 in\n",
      "- Connectivity: Wi-Fi 802.11 a/b/g/n, Bluetooth 5.0\n",
      "- Power: 15W adapter included\n",
      "- Compatible with: Android 8.0+, iOS 12+\n",
      "\n",
      "For full documentation and support, visit www.echotune.com/support.\n",
      "\n"
     ]
    },
    {
     "ename": "NameError",
     "evalue": "name 'window_chunks' is not defined",
     "output_type": "error",
     "traceback": [
      "\u001b[0;31m---------------------------------------------------------------------------\u001b[0m",
      "\u001b[0;31mNameError\u001b[0m                                 Traceback (most recent call last)",
      "Cell \u001b[0;32mIn[19], line 4\u001b[0m\n\u001b[1;32m      2\u001b[0m \u001b[38;5;28;01mfor\u001b[39;00m i, chunk \u001b[38;5;129;01min\u001b[39;00m \u001b[38;5;28menumerate\u001b[39m(sentence_chunks[:\u001b[38;5;241m2\u001b[39m]):\n\u001b[1;32m      3\u001b[0m     \u001b[38;5;28mprint\u001b[39m(\u001b[38;5;124mf\u001b[39m\u001b[38;5;124m\"\u001b[39m\u001b[38;5;130;01m\\n\u001b[39;00m\u001b[38;5;124m[Sentence Chunk \u001b[39m\u001b[38;5;132;01m{\u001b[39;00mi\u001b[38;5;132;01m}\u001b[39;00m\u001b[38;5;124m]\u001b[39m\u001b[38;5;130;01m\\n\u001b[39;00m\u001b[38;5;132;01m{\u001b[39;00mchunk\u001b[38;5;241m.\u001b[39mtext\u001b[38;5;132;01m}\u001b[39;00m\u001b[38;5;130;01m\\n\u001b[39;00m\u001b[38;5;124m\"\u001b[39m)\n\u001b[0;32m----> 4\u001b[0m \u001b[38;5;28;01mfor\u001b[39;00m i, chunk \u001b[38;5;129;01min\u001b[39;00m \u001b[38;5;28menumerate\u001b[39m(\u001b[43mwindow_chunks\u001b[49m[:\u001b[38;5;241m2\u001b[39m]):\n\u001b[1;32m      5\u001b[0m     \u001b[38;5;28mprint\u001b[39m(\u001b[38;5;124mf\u001b[39m\u001b[38;5;124m\"\u001b[39m\u001b[38;5;130;01m\\n\u001b[39;00m\u001b[38;5;124m[Window Chunk \u001b[39m\u001b[38;5;132;01m{\u001b[39;00mi\u001b[38;5;132;01m}\u001b[39;00m\u001b[38;5;124m]\u001b[39m\u001b[38;5;130;01m\\n\u001b[39;00m\u001b[38;5;132;01m{\u001b[39;00mchunk\u001b[38;5;241m.\u001b[39mtext\u001b[38;5;132;01m}\u001b[39;00m\u001b[38;5;130;01m\\n\u001b[39;00m\u001b[38;5;124m\"\u001b[39m)\n",
      "\u001b[0;31mNameError\u001b[0m: name 'window_chunks' is not defined"
     ]
    }
   ],
   "source": [
    "# Visualize a few chunks\n",
    "for i, chunk in enumerate(sentence_chunks[:2]):\n",
    "    print(f\"\\n[Sentence Chunk {i}]\\n{chunk.text}\\n\")\n",
    "for i, chunk in enumerate(window_chunks[:2]):\n",
    "    print(f\"\\n[Window Chunk {i}]\\n{chunk.text}\\n\")"
   ]
  },
  {
   "cell_type": "code",
   "execution_count": null,
   "metadata": {},
   "outputs": [],
   "source": []
  }
 ],
 "metadata": {
  "kernelspec": {
   "display_name": "ai-tutorial",
   "language": "python",
   "name": "python3"
  },
  "language_info": {
   "codemirror_mode": {
    "name": "ipython",
    "version": 3
   },
   "file_extension": ".py",
   "mimetype": "text/x-python",
   "name": "python",
   "nbconvert_exporter": "python",
   "pygments_lexer": "ipython3",
   "version": "3.9.21"
  }
 },
 "nbformat": 4,
 "nbformat_minor": 2
}
