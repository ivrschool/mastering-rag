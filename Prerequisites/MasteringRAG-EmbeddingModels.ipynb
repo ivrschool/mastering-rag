{
  "nbformat": 4,
  "nbformat_minor": 0,
  "metadata": {
    "colab": {
      "provenance": []
    },
    "kernelspec": {
      "name": "python3",
      "display_name": "Python 3"
    },
    "language_info": {
      "name": "python"
    }
  },
  "cells": [
    {
      "cell_type": "markdown",
      "source": [
        "# Intuition"
      ],
      "metadata": {
        "id": "CbjjE9UQlKtA"
      }
    },
    {
      "cell_type": "code",
      "source": [
        "\n",
        "import numpy as np\n",
        "from sklearn.metrics.pairwise import cosine_similarity\n",
        "\n",
        "# Define simple word vectors\n",
        "word_vectors = {\n",
        "    'king': np.array([0.7, 0.2, 0.1]),\n",
        "    'queen': np.array([0.6, 0.3, 0.1]),\n",
        "    'man': np.array([0.5, 0.1, 0.2]),\n",
        "    'woman': np.array([0.4, 0.3, 0.2])\n",
        "}\n",
        "# Compute cosine similarity between 'king' and 'queen'\n",
        "similarity = cosine_similarity([word_vectors['king']], [word_vectors['queen']])\n",
        "print(f\"Similarity between 'king' and 'queen': {similarity[0][0]:.2f}\")"
      ],
      "metadata": {
        "colab": {
          "base_uri": "https://localhost:8080/"
        },
        "id": "It6zHW1MlLu-",
        "outputId": "86d7849a-7402-4068-e823-3e025de2bb30"
      },
      "execution_count": 1,
      "outputs": [
        {
          "output_type": "stream",
          "name": "stdout",
          "text": [
            "Similarity between 'king' and 'queen': 0.98\n"
          ]
        }
      ]
    },
    {
      "cell_type": "markdown",
      "source": [
        "# Sentence-BERT (SBERT):"
      ],
      "metadata": {
        "id": "H-SGmhiGmBEv"
      }
    },
    {
      "cell_type": "code",
      "source": [
        "\n",
        "from sentence_transformers import SentenceTransformer, util\n",
        "\n",
        "# Load the pre-trained SBERT model\n",
        "model = SentenceTransformer('all-MiniLM-L6-v2')\n",
        "# Define sentences\n",
        "sentences = [\n",
        "    \"The cat sits on the mat.\",\n",
        "    \"A dog is playing in the yard.\",\n",
        "    \"The cat is resting on the rug.\"\n",
        "]\n",
        "# Compute embeddings\n",
        "embeddings = model.encode(sentences)\n",
        "# Compute cosine similarities\n",
        "similarity_matrix = util.cos_sim(embeddings, embeddings)\n",
        "# Display similarity scores\n",
        "for i in range(len(sentences)):\n",
        "    for j in range(i + 1, len(sentences)):\n",
        "        print(f\"Similarity between '{sentences[i]}' and '{sentences[j]}': {similarity_matrix[i][j]:.2f}\")"
      ],
      "metadata": {
        "colab": {
          "base_uri": "https://localhost:8080/"
        },
        "id": "p7m_YW5ZlMTR",
        "outputId": "b367f77c-2b18-44df-ffa9-2ad03e9cb44a"
      },
      "execution_count": 3,
      "outputs": [
        {
          "output_type": "stream",
          "name": "stdout",
          "text": [
            "Similarity between 'The cat sits on the mat.' and 'A dog is playing in the yard.': 0.16\n",
            "Similarity between 'The cat sits on the mat.' and 'The cat is resting on the rug.': 0.73\n",
            "Similarity between 'A dog is playing in the yard.' and 'The cat is resting on the rug.': 0.12\n"
          ]
        }
      ]
    },
    {
      "cell_type": "code",
      "source": [],
      "metadata": {
        "id": "hzsqqkeWmNTV"
      },
      "execution_count": null,
      "outputs": []
    }
  ]
}